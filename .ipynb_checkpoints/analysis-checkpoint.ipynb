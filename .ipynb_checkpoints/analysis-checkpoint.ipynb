{
 "cells": [
  {
   "cell_type": "code",
   "execution_count": 2,
   "metadata": {
    "pycharm": {
     "is_executing": true
    }
   },
   "outputs": [],
   "source": [
    "import pandas as pd"
   ]
  },
  {
   "cell_type": "code",
   "execution_count": 25,
   "metadata": {},
   "outputs": [
    {
     "name": "stdout",
     "output_type": "stream",
     "text": [
      "20000 2120 2051\n"
     ]
    }
   ],
   "source": [
    "train = pd.read_json(\"./speechBSD/train.json\")\n",
    "test = pd.read_json(\"./speechBSD/test.json\")\n",
    "dev = pd.read_json(\"./speechBSD/dev.json\")\n",
    "\n",
    "train_cols = len(train)\n",
    "test_cols = len(test)\n",
    "dev_cols = len(dev)\n",
    "print(train_cols, test_cols, dev_cols)"
   ]
  },
  {
   "cell_type": "code",
   "execution_count": 30,
   "metadata": {},
   "outputs": [
    {
     "data": {
      "text/plain": [
       "[37.58,\n",
       " 24.985,\n",
       " 7.635,\n",
       " 7.4,\n",
       " 6.625,\n",
       " 5.97,\n",
       " 4.11,\n",
       " 2.16,\n",
       " 1.865,\n",
       " 0.775,\n",
       " 0.7,\n",
       " 0.165,\n",
       " 0.03]"
      ]
     },
     "execution_count": 30,
     "metadata": {},
     "output_type": "execute_result"
    }
   ],
   "source": [
    "train_distribution = train.en_spk_state.value_counts().values\n",
    "train_distribution = [x*100/train_cols for x in train_distribution]\n",
    "train_distribution"
   ]
  },
  {
   "cell_type": "code",
   "execution_count": 31,
   "metadata": {},
   "outputs": [
    {
     "data": {
      "text/plain": [
       "[34.43396226415094,\n",
       " 23.30188679245283,\n",
       " 8.584905660377359,\n",
       " 7.735849056603773,\n",
       " 6.7924528301886795,\n",
       " 6.650943396226415,\n",
       " 5.235849056603773,\n",
       " 2.0283018867924527,\n",
       " 1.9339622641509433,\n",
       " 1.7924528301886793,\n",
       " 1.509433962264151]"
      ]
     },
     "execution_count": 31,
     "metadata": {},
     "output_type": "execute_result"
    }
   ],
   "source": [
    "test_distribution = test.en_spk_state.value_counts()\n",
    "test_distribution = [x*100/test_cols for x in test_distribution]\n",
    "test_distribution"
   ]
  },
  {
   "cell_type": "code",
   "execution_count": 32,
   "metadata": {},
   "outputs": [
    {
     "data": {
      "text/plain": [
       "[44.41735738664066,\n",
       " 26.523647001462702,\n",
       " 7.069722086786933,\n",
       " 6.923451974646514,\n",
       " 4.388103364212579,\n",
       " 3.6079960994636764,\n",
       " 3.6079960994636764,\n",
       " 1.4627011214041932,\n",
       " 0.8288639687957094,\n",
       " 0.6338371526084836,\n",
       " 0.5363237445148707]"
      ]
     },
     "execution_count": 32,
     "metadata": {},
     "output_type": "execute_result"
    }
   ],
   "source": [
    "dev_distribution = dev.en_spk_state.value_counts()\n",
    "dev_distribution = [x*100/dev_cols for x in dev_distribution]\n",
    "dev_distribution"
   ]
  },
  {
   "cell_type": "code",
   "execution_count": 36,
   "metadata": {},
   "outputs": [
    {
     "data": {
      "text/plain": [
       "face-to-face conversation    225\n",
       "phone call                   143\n",
       "general chatting             133\n",
       "meeting                      114\n",
       "training                      31\n",
       "presentation                  24\n",
       "Name: tag, dtype: int64"
      ]
     },
     "execution_count": 36,
     "metadata": {},
     "output_type": "execute_result"
    }
   ],
   "source": [
    "train = pd.read_json(\"/Users/alicjaharaszczuk/Desktop/PROJECT/speechBSD/txt/train.json\")\n",
    "test = pd.read_json(\"/Users/alicjaharaszczuk/Desktop/PROJECT/speechBSD/txt/test.json\")\n",
    "dev = pd.read_json(\"/Users/alicjaharaszczuk/Desktop/PROJECT/speechBSD/txt/dev.json\")\n",
    "\n",
    "train.tag.value_counts()"
   ]
  },
  {
   "cell_type": "code",
   "execution_count": 37,
   "metadata": {},
   "outputs": [
    {
     "data": {
      "text/plain": [
       "face-to-face conversation    23\n",
       "general chatting             15\n",
       "meeting                      14\n",
       "phone call                   13\n",
       "training                      2\n",
       "presentation                  2\n",
       "Name: tag, dtype: int64"
      ]
     },
     "execution_count": 37,
     "metadata": {},
     "output_type": "execute_result"
    }
   ],
   "source": [
    "dev.tag.value_counts()"
   ]
  },
  {
   "cell_type": "code",
   "execution_count": 38,
   "metadata": {},
   "outputs": [
    {
     "data": {
      "text/plain": [
       "face-to-face conversation    23\n",
       "general chatting             15\n",
       "meeting                      14\n",
       "phone call                   13\n",
       "training                      2\n",
       "presentation                  2\n",
       "Name: tag, dtype: int64"
      ]
     },
     "execution_count": 38,
     "metadata": {},
     "output_type": "execute_result"
    }
   ],
   "source": [
    "test.tag.value_counts()"
   ]
  }
 ],
 "metadata": {
  "kernelspec": {
   "display_name": "Python 3 (ipykernel)",
   "language": "python",
   "name": "python3"
  },
  "language_info": {
   "codemirror_mode": {
    "name": "ipython",
    "version": 3
   },
   "file_extension": ".py",
   "mimetype": "text/x-python",
   "name": "python",
   "nbconvert_exporter": "python",
   "pygments_lexer": "ipython3",
   "version": "3.9.0"
  }
 },
 "nbformat": 4,
 "nbformat_minor": 1
}

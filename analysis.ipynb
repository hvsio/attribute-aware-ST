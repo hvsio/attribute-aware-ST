{
 "cells": [
  {
   "cell_type": "code",
   "execution_count": 2,
   "metadata": {
    "pycharm": {
     "is_executing": true
    }
   },
   "outputs": [],
   "source": [
    "import pandas as pd"
   ]
  },
  {
   "cell_type": "code",
   "execution_count": 61,
   "metadata": {},
   "outputs": [
    {
     "data": {
      "text/plain": [
       "CA    7516\n",
       "VA    4997\n",
       "OH    1527\n",
       "MI    1480\n",
       "CO    1325\n",
       "IL    1194\n",
       "FL     822\n",
       "OR     432\n",
       "GA     373\n",
       "MA     155\n",
       "KY     140\n",
       "SC      33\n",
       "IA       6\n",
       "Name: en_spk_state, dtype: int64"
      ]
     },
     "execution_count": 61,
     "metadata": {},
     "output_type": "execute_result"
    }
   ],
   "source": [
    "train = pd.read_json(\"./speechBSD/train.json\")\n",
    "test = pd.read_json(\"./speechBSD/test.json\")\n",
    "dev = pd.read_json(\"./speechBSD/dev.json\")\n",
    "\n",
    "train_cols = len(train)\n",
    "test_cols = len(test)\n",
    "dev_cols = len(dev)\n",
    "train.en_spk_state.value_counts()"
   ]
  },
  {
   "cell_type": "code",
   "execution_count": 79,
   "outputs": [
    {
     "data": {
      "text/plain": "1"
     },
     "execution_count": 79,
     "metadata": {},
     "output_type": "execute_result"
    }
   ],
   "source": [
    "l = [1,2]\n",
    "ll = [1,3]\n",
    "lll = [a == b for a,b in zip(l,ll)]\n",
    "lll.count(True)"
   ],
   "metadata": {
    "collapsed": false
   }
  },
  {
   "cell_type": "code",
   "execution_count": 64,
   "metadata": {},
   "outputs": [
    {
     "data": {
      "text/html": [
       "<div>\n",
       "<style scoped>\n",
       "    .dataframe tbody tr th:only-of-type {\n",
       "        vertical-align: middle;\n",
       "    }\n",
       "\n",
       "    .dataframe tbody tr th {\n",
       "        vertical-align: top;\n",
       "    }\n",
       "\n",
       "    .dataframe thead th {\n",
       "        text-align: right;\n",
       "    }\n",
       "</style>\n",
       "<table border=\"1\" class=\"dataframe\">\n",
       "  <thead>\n",
       "    <tr style=\"text-align: right;\">\n",
       "      <th></th>\n",
       "      <th>State</th>\n",
       "      <th>Train</th>\n",
       "    </tr>\n",
       "  </thead>\n",
       "  <tbody>\n",
       "    <tr>\n",
       "      <th>0</th>\n",
       "      <td>CA</td>\n",
       "      <td>37.580</td>\n",
       "    </tr>\n",
       "    <tr>\n",
       "      <th>1</th>\n",
       "      <td>VA</td>\n",
       "      <td>24.985</td>\n",
       "    </tr>\n",
       "    <tr>\n",
       "      <th>2</th>\n",
       "      <td>OH</td>\n",
       "      <td>7.635</td>\n",
       "    </tr>\n",
       "    <tr>\n",
       "      <th>3</th>\n",
       "      <td>MI</td>\n",
       "      <td>7.400</td>\n",
       "    </tr>\n",
       "    <tr>\n",
       "      <th>4</th>\n",
       "      <td>CO</td>\n",
       "      <td>6.625</td>\n",
       "    </tr>\n",
       "    <tr>\n",
       "      <th>5</th>\n",
       "      <td>IL</td>\n",
       "      <td>5.970</td>\n",
       "    </tr>\n",
       "    <tr>\n",
       "      <th>6</th>\n",
       "      <td>FL</td>\n",
       "      <td>4.110</td>\n",
       "    </tr>\n",
       "    <tr>\n",
       "      <th>7</th>\n",
       "      <td>OR</td>\n",
       "      <td>2.160</td>\n",
       "    </tr>\n",
       "    <tr>\n",
       "      <th>8</th>\n",
       "      <td>GA</td>\n",
       "      <td>1.865</td>\n",
       "    </tr>\n",
       "    <tr>\n",
       "      <th>9</th>\n",
       "      <td>MA</td>\n",
       "      <td>0.775</td>\n",
       "    </tr>\n",
       "    <tr>\n",
       "      <th>10</th>\n",
       "      <td>KY</td>\n",
       "      <td>0.700</td>\n",
       "    </tr>\n",
       "    <tr>\n",
       "      <th>11</th>\n",
       "      <td>SC</td>\n",
       "      <td>0.165</td>\n",
       "    </tr>\n",
       "    <tr>\n",
       "      <th>12</th>\n",
       "      <td>IA</td>\n",
       "      <td>0.030</td>\n",
       "    </tr>\n",
       "  </tbody>\n",
       "</table>\n",
       "</div>"
      ],
      "text/plain": [
       "   State   Train\n",
       "0     CA  37.580\n",
       "1     VA  24.985\n",
       "2     OH   7.635\n",
       "3     MI   7.400\n",
       "4     CO   6.625\n",
       "5     IL   5.970\n",
       "6     FL   4.110\n",
       "7     OR   2.160\n",
       "8     GA   1.865\n",
       "9     MA   0.775\n",
       "10    KY   0.700\n",
       "11    SC   0.165\n",
       "12    IA   0.030"
      ]
     },
     "execution_count": 64,
     "metadata": {},
     "output_type": "execute_result"
    }
   ],
   "source": [
    "train_distribution = train.en_spk_state.value_counts().values\n",
    "train_distribution = [x*100/train_cols for x in train_distribution]\n",
    "df = pd.DataFrame(columns=[\"State\", \"Train\"])\n",
    "df['State'] = train.en_spk_state.value_counts().index\n",
    "df['Train'] = train_distribution\n",
    "df"
   ]
  },
  {
   "cell_type": "code",
   "execution_count": 65,
   "metadata": {},
   "outputs": [
    {
     "data": {
      "text/html": [
       "<div>\n",
       "<style scoped>\n",
       "    .dataframe tbody tr th:only-of-type {\n",
       "        vertical-align: middle;\n",
       "    }\n",
       "\n",
       "    .dataframe tbody tr th {\n",
       "        vertical-align: top;\n",
       "    }\n",
       "\n",
       "    .dataframe thead th {\n",
       "        text-align: right;\n",
       "    }\n",
       "</style>\n",
       "<table border=\"1\" class=\"dataframe\">\n",
       "  <thead>\n",
       "    <tr style=\"text-align: right;\">\n",
       "      <th></th>\n",
       "      <th>State</th>\n",
       "      <th>Test</th>\n",
       "    </tr>\n",
       "  </thead>\n",
       "  <tbody>\n",
       "    <tr>\n",
       "      <th>0</th>\n",
       "      <td>CA</td>\n",
       "      <td>34.433962</td>\n",
       "    </tr>\n",
       "    <tr>\n",
       "      <th>1</th>\n",
       "      <td>VA</td>\n",
       "      <td>23.301887</td>\n",
       "    </tr>\n",
       "    <tr>\n",
       "      <th>2</th>\n",
       "      <td>CO</td>\n",
       "      <td>8.584906</td>\n",
       "    </tr>\n",
       "    <tr>\n",
       "      <th>3</th>\n",
       "      <td>MI</td>\n",
       "      <td>7.735849</td>\n",
       "    </tr>\n",
       "    <tr>\n",
       "      <th>4</th>\n",
       "      <td>OH</td>\n",
       "      <td>6.792453</td>\n",
       "    </tr>\n",
       "    <tr>\n",
       "      <th>5</th>\n",
       "      <td>IL</td>\n",
       "      <td>6.650943</td>\n",
       "    </tr>\n",
       "    <tr>\n",
       "      <th>6</th>\n",
       "      <td>FL</td>\n",
       "      <td>5.235849</td>\n",
       "    </tr>\n",
       "    <tr>\n",
       "      <th>7</th>\n",
       "      <td>OR</td>\n",
       "      <td>2.028302</td>\n",
       "    </tr>\n",
       "    <tr>\n",
       "      <th>8</th>\n",
       "      <td>MA</td>\n",
       "      <td>1.933962</td>\n",
       "    </tr>\n",
       "    <tr>\n",
       "      <th>9</th>\n",
       "      <td>KY</td>\n",
       "      <td>1.792453</td>\n",
       "    </tr>\n",
       "    <tr>\n",
       "      <th>10</th>\n",
       "      <td>GA</td>\n",
       "      <td>1.509434</td>\n",
       "    </tr>\n",
       "  </tbody>\n",
       "</table>\n",
       "</div>"
      ],
      "text/plain": [
       "   State       Test\n",
       "0     CA  34.433962\n",
       "1     VA  23.301887\n",
       "2     CO   8.584906\n",
       "3     MI   7.735849\n",
       "4     OH   6.792453\n",
       "5     IL   6.650943\n",
       "6     FL   5.235849\n",
       "7     OR   2.028302\n",
       "8     MA   1.933962\n",
       "9     KY   1.792453\n",
       "10    GA   1.509434"
      ]
     },
     "execution_count": 65,
     "metadata": {},
     "output_type": "execute_result"
    }
   ],
   "source": [
    "df1 = pd.DataFrame(columns=[\"State\", \"Test\"])\n",
    "df1['State'] = test.en_spk_state.value_counts().index\n",
    "df1['Test'] = test_distribution\n",
    "df1"
   ]
  },
  {
   "cell_type": "code",
   "execution_count": 66,
   "metadata": {},
   "outputs": [
    {
     "data": {
      "text/html": [
       "<div>\n",
       "<style scoped>\n",
       "    .dataframe tbody tr th:only-of-type {\n",
       "        vertical-align: middle;\n",
       "    }\n",
       "\n",
       "    .dataframe tbody tr th {\n",
       "        vertical-align: top;\n",
       "    }\n",
       "\n",
       "    .dataframe thead th {\n",
       "        text-align: right;\n",
       "    }\n",
       "</style>\n",
       "<table border=\"1\" class=\"dataframe\">\n",
       "  <thead>\n",
       "    <tr style=\"text-align: right;\">\n",
       "      <th></th>\n",
       "      <th>State</th>\n",
       "      <th>Dev</th>\n",
       "    </tr>\n",
       "  </thead>\n",
       "  <tbody>\n",
       "    <tr>\n",
       "      <th>0</th>\n",
       "      <td>CA</td>\n",
       "      <td>44.417357</td>\n",
       "    </tr>\n",
       "    <tr>\n",
       "      <th>1</th>\n",
       "      <td>VA</td>\n",
       "      <td>26.523647</td>\n",
       "    </tr>\n",
       "    <tr>\n",
       "      <th>2</th>\n",
       "      <td>OH</td>\n",
       "      <td>7.069722</td>\n",
       "    </tr>\n",
       "    <tr>\n",
       "      <th>3</th>\n",
       "      <td>MI</td>\n",
       "      <td>6.923452</td>\n",
       "    </tr>\n",
       "    <tr>\n",
       "      <th>4</th>\n",
       "      <td>IL</td>\n",
       "      <td>4.388103</td>\n",
       "    </tr>\n",
       "    <tr>\n",
       "      <th>5</th>\n",
       "      <td>FL</td>\n",
       "      <td>3.607996</td>\n",
       "    </tr>\n",
       "    <tr>\n",
       "      <th>6</th>\n",
       "      <td>CO</td>\n",
       "      <td>3.607996</td>\n",
       "    </tr>\n",
       "    <tr>\n",
       "      <th>7</th>\n",
       "      <td>OR</td>\n",
       "      <td>1.462701</td>\n",
       "    </tr>\n",
       "    <tr>\n",
       "      <th>8</th>\n",
       "      <td>MA</td>\n",
       "      <td>0.828864</td>\n",
       "    </tr>\n",
       "    <tr>\n",
       "      <th>9</th>\n",
       "      <td>KY</td>\n",
       "      <td>0.633837</td>\n",
       "    </tr>\n",
       "    <tr>\n",
       "      <th>10</th>\n",
       "      <td>GA</td>\n",
       "      <td>0.536324</td>\n",
       "    </tr>\n",
       "  </tbody>\n",
       "</table>\n",
       "</div>"
      ],
      "text/plain": [
       "   State        Dev\n",
       "0     CA  44.417357\n",
       "1     VA  26.523647\n",
       "2     OH   7.069722\n",
       "3     MI   6.923452\n",
       "4     IL   4.388103\n",
       "5     FL   3.607996\n",
       "6     CO   3.607996\n",
       "7     OR   1.462701\n",
       "8     MA   0.828864\n",
       "9     KY   0.633837\n",
       "10    GA   0.536324"
      ]
     },
     "execution_count": 66,
     "metadata": {},
     "output_type": "execute_result"
    }
   ],
   "source": [
    "df2 = pd.DataFrame(columns=[\"State\", \"Dev\"])\n",
    "df2['State'] = dev.en_spk_state.value_counts().index\n",
    "df2['Dev'] = dev_distribution\n",
    "df2"
   ]
  },
  {
   "cell_type": "code",
   "execution_count": 77,
   "metadata": {},
   "outputs": [
    {
     "data": {
      "text/html": [
       "<div>\n",
       "<style scoped>\n",
       "    .dataframe tbody tr th:only-of-type {\n",
       "        vertical-align: middle;\n",
       "    }\n",
       "\n",
       "    .dataframe tbody tr th {\n",
       "        vertical-align: top;\n",
       "    }\n",
       "\n",
       "    .dataframe thead th {\n",
       "        text-align: right;\n",
       "    }\n",
       "</style>\n",
       "<table border=\"1\" class=\"dataframe\">\n",
       "  <thead>\n",
       "    <tr style=\"text-align: right;\">\n",
       "      <th></th>\n",
       "      <th>State</th>\n",
       "      <th>Train</th>\n",
       "      <th>Test</th>\n",
       "      <th>Dev</th>\n",
       "    </tr>\n",
       "  </thead>\n",
       "  <tbody>\n",
       "    <tr>\n",
       "      <th>0</th>\n",
       "      <td>CA</td>\n",
       "      <td>37.580</td>\n",
       "      <td>34.433962</td>\n",
       "      <td>44.417357</td>\n",
       "    </tr>\n",
       "    <tr>\n",
       "      <th>1</th>\n",
       "      <td>VA</td>\n",
       "      <td>24.985</td>\n",
       "      <td>23.301887</td>\n",
       "      <td>26.523647</td>\n",
       "    </tr>\n",
       "    <tr>\n",
       "      <th>2</th>\n",
       "      <td>OH</td>\n",
       "      <td>7.635</td>\n",
       "      <td>6.792453</td>\n",
       "      <td>7.069722</td>\n",
       "    </tr>\n",
       "    <tr>\n",
       "      <th>3</th>\n",
       "      <td>MI</td>\n",
       "      <td>7.400</td>\n",
       "      <td>7.735849</td>\n",
       "      <td>6.923452</td>\n",
       "    </tr>\n",
       "    <tr>\n",
       "      <th>4</th>\n",
       "      <td>CO</td>\n",
       "      <td>6.625</td>\n",
       "      <td>8.584906</td>\n",
       "      <td>3.607996</td>\n",
       "    </tr>\n",
       "    <tr>\n",
       "      <th>5</th>\n",
       "      <td>IL</td>\n",
       "      <td>5.970</td>\n",
       "      <td>6.650943</td>\n",
       "      <td>4.388103</td>\n",
       "    </tr>\n",
       "    <tr>\n",
       "      <th>6</th>\n",
       "      <td>FL</td>\n",
       "      <td>4.110</td>\n",
       "      <td>5.235849</td>\n",
       "      <td>3.607996</td>\n",
       "    </tr>\n",
       "    <tr>\n",
       "      <th>7</th>\n",
       "      <td>OR</td>\n",
       "      <td>2.160</td>\n",
       "      <td>2.028302</td>\n",
       "      <td>1.462701</td>\n",
       "    </tr>\n",
       "    <tr>\n",
       "      <th>8</th>\n",
       "      <td>GA</td>\n",
       "      <td>1.865</td>\n",
       "      <td>1.509434</td>\n",
       "      <td>0.536324</td>\n",
       "    </tr>\n",
       "    <tr>\n",
       "      <th>9</th>\n",
       "      <td>MA</td>\n",
       "      <td>0.775</td>\n",
       "      <td>1.933962</td>\n",
       "      <td>0.828864</td>\n",
       "    </tr>\n",
       "    <tr>\n",
       "      <th>10</th>\n",
       "      <td>KY</td>\n",
       "      <td>0.700</td>\n",
       "      <td>1.792453</td>\n",
       "      <td>0.633837</td>\n",
       "    </tr>\n",
       "    <tr>\n",
       "      <th>11</th>\n",
       "      <td>SC</td>\n",
       "      <td>0.165</td>\n",
       "      <td>NaN</td>\n",
       "      <td>NaN</td>\n",
       "    </tr>\n",
       "    <tr>\n",
       "      <th>12</th>\n",
       "      <td>IA</td>\n",
       "      <td>0.030</td>\n",
       "      <td>NaN</td>\n",
       "      <td>NaN</td>\n",
       "    </tr>\n",
       "  </tbody>\n",
       "</table>\n",
       "</div>"
      ],
      "text/plain": [
       "   State   Train       Test        Dev\n",
       "0     CA  37.580  34.433962  44.417357\n",
       "1     VA  24.985  23.301887  26.523647\n",
       "2     OH   7.635   6.792453   7.069722\n",
       "3     MI   7.400   7.735849   6.923452\n",
       "4     CO   6.625   8.584906   3.607996\n",
       "5     IL   5.970   6.650943   4.388103\n",
       "6     FL   4.110   5.235849   3.607996\n",
       "7     OR   2.160   2.028302   1.462701\n",
       "8     GA   1.865   1.509434   0.536324\n",
       "9     MA   0.775   1.933962   0.828864\n",
       "10    KY   0.700   1.792453   0.633837\n",
       "11    SC   0.165        NaN        NaN\n",
       "12    IA   0.030        NaN        NaN"
      ]
     },
     "execution_count": 77,
     "metadata": {},
     "output_type": "execute_result"
    }
   ],
   "source": [
    "df_temp = df.join(df1.set_index('State'), on=\"State\")\n",
    "df3 = df_temp.join(df2.set_index('State'), on=\"State\")\n",
    "df3"
   ]
  },
  {
   "cell_type": "code",
   "execution_count": 46,
   "metadata": {},
   "outputs": [
    {
     "data": {
      "text/plain": [
       "array(['MA', 'KY', 'VA', 'CO', 'CA', 'IL', 'MI', 'OR', 'OH', 'GA', 'FL'],\n",
       "      dtype=object)"
      ]
     },
     "execution_count": 46,
     "metadata": {},
     "output_type": "execute_result"
    }
   ],
   "source": [
    "arr_train = train.en_spk_state.unique()\n",
    "arr_test = test.en_spk_state.unique()\n",
    "arr_test"
   ]
  },
  {
   "cell_type": "code",
   "execution_count": 31,
   "metadata": {},
   "outputs": [
    {
     "data": {
      "text/plain": [
       "[34.43396226415094,\n",
       " 23.30188679245283,\n",
       " 8.584905660377359,\n",
       " 7.735849056603773,\n",
       " 6.7924528301886795,\n",
       " 6.650943396226415,\n",
       " 5.235849056603773,\n",
       " 2.0283018867924527,\n",
       " 1.9339622641509433,\n",
       " 1.7924528301886793,\n",
       " 1.509433962264151]"
      ]
     },
     "execution_count": 31,
     "metadata": {},
     "output_type": "execute_result"
    }
   ],
   "source": [
    "test_distribution = test.en_spk_state.value_counts()\n",
    "test_distribution = [x*100/test_cols for x in test_distribution]\n",
    "test_distribution"
   ]
  },
  {
   "cell_type": "code",
   "execution_count": 32,
   "metadata": {},
   "outputs": [
    {
     "data": {
      "text/plain": [
       "[44.41735738664066,\n",
       " 26.523647001462702,\n",
       " 7.069722086786933,\n",
       " 6.923451974646514,\n",
       " 4.388103364212579,\n",
       " 3.6079960994636764,\n",
       " 3.6079960994636764,\n",
       " 1.4627011214041932,\n",
       " 0.8288639687957094,\n",
       " 0.6338371526084836,\n",
       " 0.5363237445148707]"
      ]
     },
     "execution_count": 32,
     "metadata": {},
     "output_type": "execute_result"
    }
   ],
   "source": [
    "dev_distribution = dev.en_spk_state.value_counts()\n",
    "dev_distribution = [x*100/dev_cols for x in dev_distribution]\n",
    "dev_distribution"
   ]
  },
  {
   "cell_type": "code",
   "execution_count": 44,
   "metadata": {},
   "outputs": [
    {
     "ename": "ValueError",
     "evalue": "Length of values (11) does not match length of index (13)",
     "output_type": "error",
     "traceback": [
      "\u001B[0;31m---------------------------------------------------------------------------\u001B[0m",
      "\u001B[0;31mValueError\u001B[0m                                Traceback (most recent call last)",
      "Cell \u001B[0;32mIn[44], line 4\u001B[0m\n\u001B[1;32m      2\u001B[0m df[\u001B[38;5;124m'\u001B[39m\u001B[38;5;124mStates\u001B[39m\u001B[38;5;124m'\u001B[39m] \u001B[38;5;241m=\u001B[39m train\u001B[38;5;241m.\u001B[39men_spk_state\u001B[38;5;241m.\u001B[39munique()\n\u001B[1;32m      3\u001B[0m df[\u001B[38;5;124m'\u001B[39m\u001B[38;5;124mTrain\u001B[39m\u001B[38;5;124m'\u001B[39m] \u001B[38;5;241m=\u001B[39m train_distribution\n\u001B[0;32m----> 4\u001B[0m \u001B[43mdf\u001B[49m\u001B[43m[\u001B[49m\u001B[38;5;124;43m'\u001B[39;49m\u001B[38;5;124;43mTest\u001B[39;49m\u001B[38;5;124;43m'\u001B[39;49m\u001B[43m]\u001B[49m \u001B[38;5;241m=\u001B[39m test_distribution\n\u001B[1;32m      5\u001B[0m df[\u001B[38;5;124m'\u001B[39m\u001B[38;5;124mDev\u001B[39m\u001B[38;5;124m'\u001B[39m] \u001B[38;5;241m=\u001B[39m dev_distribution\n\u001B[1;32m      6\u001B[0m df\n",
      "File \u001B[0;32m~/miniforge3/envs/nlp5/lib/python3.9/site-packages/pandas/core/frame.py:3978\u001B[0m, in \u001B[0;36mDataFrame.__setitem__\u001B[0;34m(self, key, value)\u001B[0m\n\u001B[1;32m   3975\u001B[0m     \u001B[38;5;28mself\u001B[39m\u001B[38;5;241m.\u001B[39m_setitem_array([key], value)\n\u001B[1;32m   3976\u001B[0m \u001B[38;5;28;01melse\u001B[39;00m:\n\u001B[1;32m   3977\u001B[0m     \u001B[38;5;66;03m# set column\u001B[39;00m\n\u001B[0;32m-> 3978\u001B[0m     \u001B[38;5;28;43mself\u001B[39;49m\u001B[38;5;241;43m.\u001B[39;49m\u001B[43m_set_item\u001B[49m\u001B[43m(\u001B[49m\u001B[43mkey\u001B[49m\u001B[43m,\u001B[49m\u001B[43m \u001B[49m\u001B[43mvalue\u001B[49m\u001B[43m)\u001B[49m\n",
      "File \u001B[0;32m~/miniforge3/envs/nlp5/lib/python3.9/site-packages/pandas/core/frame.py:4172\u001B[0m, in \u001B[0;36mDataFrame._set_item\u001B[0;34m(self, key, value)\u001B[0m\n\u001B[1;32m   4162\u001B[0m \u001B[38;5;28;01mdef\u001B[39;00m \u001B[38;5;21m_set_item\u001B[39m(\u001B[38;5;28mself\u001B[39m, key, value) \u001B[38;5;241m-\u001B[39m\u001B[38;5;241m>\u001B[39m \u001B[38;5;28;01mNone\u001B[39;00m:\n\u001B[1;32m   4163\u001B[0m     \u001B[38;5;124;03m\"\"\"\u001B[39;00m\n\u001B[1;32m   4164\u001B[0m \u001B[38;5;124;03m    Add series to DataFrame in specified column.\u001B[39;00m\n\u001B[1;32m   4165\u001B[0m \n\u001B[0;32m   (...)\u001B[0m\n\u001B[1;32m   4170\u001B[0m \u001B[38;5;124;03m    ensure homogeneity.\u001B[39;00m\n\u001B[1;32m   4171\u001B[0m \u001B[38;5;124;03m    \"\"\"\u001B[39;00m\n\u001B[0;32m-> 4172\u001B[0m     value \u001B[38;5;241m=\u001B[39m \u001B[38;5;28;43mself\u001B[39;49m\u001B[38;5;241;43m.\u001B[39;49m\u001B[43m_sanitize_column\u001B[49m\u001B[43m(\u001B[49m\u001B[43mvalue\u001B[49m\u001B[43m)\u001B[49m\n\u001B[1;32m   4174\u001B[0m     \u001B[38;5;28;01mif\u001B[39;00m (\n\u001B[1;32m   4175\u001B[0m         key \u001B[38;5;129;01min\u001B[39;00m \u001B[38;5;28mself\u001B[39m\u001B[38;5;241m.\u001B[39mcolumns\n\u001B[1;32m   4176\u001B[0m         \u001B[38;5;129;01mand\u001B[39;00m value\u001B[38;5;241m.\u001B[39mndim \u001B[38;5;241m==\u001B[39m \u001B[38;5;241m1\u001B[39m\n\u001B[1;32m   4177\u001B[0m         \u001B[38;5;129;01mand\u001B[39;00m \u001B[38;5;129;01mnot\u001B[39;00m is_extension_array_dtype(value)\n\u001B[1;32m   4178\u001B[0m     ):\n\u001B[1;32m   4179\u001B[0m         \u001B[38;5;66;03m# broadcast across multiple columns if necessary\u001B[39;00m\n\u001B[1;32m   4180\u001B[0m         \u001B[38;5;28;01mif\u001B[39;00m \u001B[38;5;129;01mnot\u001B[39;00m \u001B[38;5;28mself\u001B[39m\u001B[38;5;241m.\u001B[39mcolumns\u001B[38;5;241m.\u001B[39mis_unique \u001B[38;5;129;01mor\u001B[39;00m \u001B[38;5;28misinstance\u001B[39m(\u001B[38;5;28mself\u001B[39m\u001B[38;5;241m.\u001B[39mcolumns, MultiIndex):\n",
      "File \u001B[0;32m~/miniforge3/envs/nlp5/lib/python3.9/site-packages/pandas/core/frame.py:4912\u001B[0m, in \u001B[0;36mDataFrame._sanitize_column\u001B[0;34m(self, value)\u001B[0m\n\u001B[1;32m   4909\u001B[0m     \u001B[38;5;28;01mreturn\u001B[39;00m _reindex_for_setitem(Series(value), \u001B[38;5;28mself\u001B[39m\u001B[38;5;241m.\u001B[39mindex)\n\u001B[1;32m   4911\u001B[0m \u001B[38;5;28;01mif\u001B[39;00m is_list_like(value):\n\u001B[0;32m-> 4912\u001B[0m     \u001B[43mcom\u001B[49m\u001B[38;5;241;43m.\u001B[39;49m\u001B[43mrequire_length_match\u001B[49m\u001B[43m(\u001B[49m\u001B[43mvalue\u001B[49m\u001B[43m,\u001B[49m\u001B[43m \u001B[49m\u001B[38;5;28;43mself\u001B[39;49m\u001B[38;5;241;43m.\u001B[39;49m\u001B[43mindex\u001B[49m\u001B[43m)\u001B[49m\n\u001B[1;32m   4913\u001B[0m \u001B[38;5;28;01mreturn\u001B[39;00m sanitize_array(value, \u001B[38;5;28mself\u001B[39m\u001B[38;5;241m.\u001B[39mindex, copy\u001B[38;5;241m=\u001B[39m\u001B[38;5;28;01mTrue\u001B[39;00m, allow_2d\u001B[38;5;241m=\u001B[39m\u001B[38;5;28;01mTrue\u001B[39;00m)\n",
      "File \u001B[0;32m~/miniforge3/envs/nlp5/lib/python3.9/site-packages/pandas/core/common.py:561\u001B[0m, in \u001B[0;36mrequire_length_match\u001B[0;34m(data, index)\u001B[0m\n\u001B[1;32m    557\u001B[0m \u001B[38;5;124;03m\"\"\"\u001B[39;00m\n\u001B[1;32m    558\u001B[0m \u001B[38;5;124;03mCheck the length of data matches the length of the index.\u001B[39;00m\n\u001B[1;32m    559\u001B[0m \u001B[38;5;124;03m\"\"\"\u001B[39;00m\n\u001B[1;32m    560\u001B[0m \u001B[38;5;28;01mif\u001B[39;00m \u001B[38;5;28mlen\u001B[39m(data) \u001B[38;5;241m!=\u001B[39m \u001B[38;5;28mlen\u001B[39m(index):\n\u001B[0;32m--> 561\u001B[0m     \u001B[38;5;28;01mraise\u001B[39;00m \u001B[38;5;167;01mValueError\u001B[39;00m(\n\u001B[1;32m    562\u001B[0m         \u001B[38;5;124m\"\u001B[39m\u001B[38;5;124mLength of values \u001B[39m\u001B[38;5;124m\"\u001B[39m\n\u001B[1;32m    563\u001B[0m         \u001B[38;5;124mf\u001B[39m\u001B[38;5;124m\"\u001B[39m\u001B[38;5;124m(\u001B[39m\u001B[38;5;132;01m{\u001B[39;00m\u001B[38;5;28mlen\u001B[39m(data)\u001B[38;5;132;01m}\u001B[39;00m\u001B[38;5;124m) \u001B[39m\u001B[38;5;124m\"\u001B[39m\n\u001B[1;32m    564\u001B[0m         \u001B[38;5;124m\"\u001B[39m\u001B[38;5;124mdoes not match length of index \u001B[39m\u001B[38;5;124m\"\u001B[39m\n\u001B[1;32m    565\u001B[0m         \u001B[38;5;124mf\u001B[39m\u001B[38;5;124m\"\u001B[39m\u001B[38;5;124m(\u001B[39m\u001B[38;5;132;01m{\u001B[39;00m\u001B[38;5;28mlen\u001B[39m(index)\u001B[38;5;132;01m}\u001B[39;00m\u001B[38;5;124m)\u001B[39m\u001B[38;5;124m\"\u001B[39m\n\u001B[1;32m    566\u001B[0m     )\n",
      "\u001B[0;31mValueError\u001B[0m: Length of values (11) does not match length of index (13)"
     ]
    }
   ],
   "source": [
    "df = pd.DataFrame()\n",
    "df['States'] = train.en_spk_state.unique()\n",
    "df['Train'] = train_distribution\n",
    "df['Test'] = test_distribution\n",
    "df['Dev'] = dev_distribution\n",
    "df"
   ]
  },
  {
   "cell_type": "code",
   "execution_count": 36,
   "metadata": {},
   "outputs": [
    {
     "data": {
      "text/plain": [
       "face-to-face conversation    225\n",
       "phone call                   143\n",
       "general chatting             133\n",
       "meeting                      114\n",
       "training                      31\n",
       "presentation                  24\n",
       "Name: tag, dtype: int64"
      ]
     },
     "execution_count": 36,
     "metadata": {},
     "output_type": "execute_result"
    }
   ],
   "source": [
    "train = pd.read_json(\"./speechBSD/txt/train.json\")\n",
    "test = pd.read_json(\"./speechBSD/txt/test.json\")\n",
    "dev = pd.read_json(\"./speechBSD/txt/dev.json\")\n",
    "\n",
    "train.tag.value_counts()"
   ]
  },
  {
   "cell_type": "code",
   "execution_count": 37,
   "metadata": {},
   "outputs": [
    {
     "data": {
      "text/plain": [
       "face-to-face conversation    23\n",
       "general chatting             15\n",
       "meeting                      14\n",
       "phone call                   13\n",
       "training                      2\n",
       "presentation                  2\n",
       "Name: tag, dtype: int64"
      ]
     },
     "execution_count": 37,
     "metadata": {},
     "output_type": "execute_result"
    }
   ],
   "source": [
    "dev.tag.value_counts()"
   ]
  },
  {
   "cell_type": "code",
   "execution_count": 38,
   "metadata": {},
   "outputs": [
    {
     "data": {
      "text/plain": [
       "face-to-face conversation    23\n",
       "general chatting             15\n",
       "meeting                      14\n",
       "phone call                   13\n",
       "training                      2\n",
       "presentation                  2\n",
       "Name: tag, dtype: int64"
      ]
     },
     "execution_count": 38,
     "metadata": {},
     "output_type": "execute_result"
    }
   ],
   "source": [
    "test.tag.value_counts()"
   ]
  }
 ],
 "metadata": {
  "kernelspec": {
   "display_name": "Python 3 (ipykernel)",
   "language": "python",
   "name": "python3"
  },
  "language_info": {
   "codemirror_mode": {
    "name": "ipython",
    "version": 3
   },
   "file_extension": ".py",
   "mimetype": "text/x-python",
   "name": "python",
   "nbconvert_exporter": "python",
   "pygments_lexer": "ipython3",
   "version": "3.9.0"
  }
 },
 "nbformat": 4,
 "nbformat_minor": 1
}
